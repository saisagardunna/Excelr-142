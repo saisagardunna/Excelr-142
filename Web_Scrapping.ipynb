{
 "cells": [
  {
   "cell_type": "code",
   "execution_count": 1,
   "id": "87f7961b-7fe4-476c-9ff2-c93d12d11fa4",
   "metadata": {},
   "outputs": [
    {
     "name": "stdout",
     "output_type": "stream",
     "text": [
      "1. \"“The world as we have created it is a process of our thinking. It cannot be changed without changing our thinking.”\" - Albert Einstein\n",
      "Tags: change, deep-thoughts, thinking, world\n",
      "\n",
      "2. \"“It is our choices, Harry, that show what we truly are, far more than our abilities.”\" - J.K. Rowling\n",
      "Tags: abilities, choices\n",
      "\n",
      "3. \"“There are only two ways to live your life. One is as though nothing is a miracle. The other is as though everything is a miracle.”\" - Albert Einstein\n",
      "Tags: inspirational, life, live, miracle, miracles\n",
      "\n",
      "4. \"“The person, be it gentleman or lady, who has not pleasure in a good novel, must be intolerably stupid.”\" - Jane Austen\n",
      "Tags: aliteracy, books, classic, humor\n",
      "\n",
      "5. \"“Imperfection is beauty, madness is genius and it's better to be absolutely ridiculous than absolutely boring.”\" - Marilyn Monroe\n",
      "Tags: be-yourself, inspirational\n",
      "\n"
     ]
    }
   ],
   "source": [
    "import requests\n",
    "from bs4 import BeautifulSoup\n",
    "url = \"http://quotes.toscrape.com/\"\n",
    "response = requests.get(url)\n",
    "if response.status_code == 200:\n",
    "    soup = BeautifulSoup(response.text, 'html.parser')\n",
    "    quotes = soup.find_all(\"div\", class_=\"quote\")\n",
    "    for i, quote in enumerate(quotes[:5]):\n",
    "        text = quote.find(\"span\", class_=\"text\").text \n",
    "        author = quote.find(\"small\", class_=\"author\").text  \n",
    "        tags = [tag.text for tag in quote.find_all(\"a\", class_=\"tag\")]\n",
    "        print(f\"{i+1}. \\\"{text}\\\" - {author}\")\n",
    "        print(f\"Tags: {', '.join(tags)}\\n\")\n",
    "\n",
    "else:\n",
    "    print(f\"Failed to retrieve the webpage. Status Code: {response.status_code}\")\n"
   ]
  },
  {
   "cell_type": "code",
   "execution_count": 11,
   "id": "09dfc8bf-7965-4a3b-90d6-3262b3f72030",
   "metadata": {},
   "outputs": [
    {
     "name": "stdout",
     "output_type": "stream",
     "text": [
      "Current Weather in Hyderabad: 32 °C | Clear.\n"
     ]
    }
   ],
   "source": [
    "import requests \n",
    "from bs4 import BeautifulSoup \n",
    "city = \"india/hyderabad\" \n",
    "url = f\"https://www.timeanddate.com/weather/{city}\" \n",
    "response = requests.get(url) \n",
    "soup = BeautifulSoup (response.text, 'html.parser') \n",
    "temp = soup.find(\"div\", class_=\"h2\").text.strip() if soup.find(\"div\", class_=\"h2\") else \"N/A\" \n",
    "desc = soup.find(\"p\").text.strip() if soup.find(\"p\") else \"N/A\" \n",
    "print(f\"Current Weather in Hyderabad: {temp} | {desc}\")"
   ]
  },
  {
   "cell_type": "code",
   "execution_count": 19,
   "id": "76abd64d-5fcf-409d-af19-802ed5617ab4",
   "metadata": {},
   "outputs": [
    {
     "name": "stdout",
     "output_type": "stream",
     "text": [
      "Product: Which phone would you like to exchange?\n",
      "Price: Rs. 1,22,900.\n"
     ]
    }
   ],
   "source": [
    "import requests\n",
    "from bs4 import BeautifulSoup\n",
    "search_url = \"https://www.amazon.in/iPhone-16-Pro-256-GB/dp/B0DGJC8DG8/ref=sr_1_3?crid=PQVCJSNISAH4&dib=eyJ2IjoiMSJ9.LAi5z5vs1wlGTD04ksrOBDm2VzRR6oSGUyU2fAljiGsL1me6rw8OXNrOi1LBmMiUS3IBhbJqG4BjCxPxlTRZkU66zTWckUA1l7nUx-jPSRQgRK20BjiJ2WVjPzL_pnGg9AgCiFgc4cvgNw1XWvK6cWsO-1aVWhloD_SfnEp9vRaQ2BiKd3EGYdvXDC2eMKv23FOTFj3n9d-X13wcUvLyNwM59Y7rfkqSWR7fMOvDCUE.SZrBFpCLwNvw0FrZnpFBQSegQdmtaAF7HtAv-7Fo4bI&dib_tag=se&keywords=iphone&qid=1739862507&sprefix=iphone%2Caps%2C233&sr=8-3&th=1\"\n",
    "headers = {\n",
    "    \"User-Agent\": \"Mozilla/5.0 (Windows NT 10.0; Win64; x64) AppleWebKit/537.36 (KHTML, like Gecko) Chrome/91.0.4472.124 Safari/537.36\"\n",
    "}\n",
    "response = requests.get(search_url, headers=headers)\n",
    "if response.status_code == 200:\n",
    "    soup = BeautifulSoup(response.text, \"html.parser\")\n",
    "    product = soup.select_one(\"span.a-size-medium\")\n",
    "    price = soup.select_one(\"span.a-price-whole\")\n",
    "    if product and price:\n",
    "        print(f\"Product: {product.text.strip()}\")\n",
    "        print(f\"Price: Rs. {price.text.strip()}\")\n",
    "    else:\n",
    "        print(\"Could not find product details.\")\n",
    "else:\n",
    "    print(f\"Failed to retrieve the webpage. Status Code: {response.status_code}\")"
   ]
  },
  {
   "cell_type": "code",
   "execution_count": 25,
   "id": "756232ac-d7cf-4c99-a0bb-adf71735b49b",
   "metadata": {},
   "outputs": [
    {
     "name": "stdout",
     "output_type": "stream",
     "text": [
      "World: 8,119,000,000\n",
      "China: 1,408,280,000\n",
      "1,402,737,000: 17.2%\n",
      "United States: 340,110,988\n",
      "Indonesia: 282,477,584\n"
     ]
    }
   ],
   "source": [
    "import requests\n",
    "from bs4 import BeautifulSoup\n",
    "url = \"https://en.wikipedia.org/wiki/List_of_countries_and_dependencies_by_population\"\n",
    "response = requests.get(url)\n",
    "if response.status_code == 200:\n",
    "    soup = BeautifulSoup(response.text, \"html.parser\")\n",
    "    table = soup.find(\"table\", class_=\"wikitable\")\n",
    "    for row in table.find_all(\"tr\")[1:6]:\n",
    "        columns = row.find_all(\"td\")\n",
    "        if len(columns) > 2:\n",
    "            country = columns[1].text.strip()\n",
    "            population = columns[2].text.strip()\n",
    "            print(f\"{country}: {population}\")\n"
   ]
  },
  {
   "cell_type": "code",
   "execution_count": 29,
   "id": "bc6a4b1c-bb08-4ada-a187-2897d717eabe",
   "metadata": {},
   "outputs": [
    {
     "name": "stderr",
     "output_type": "stream",
     "text": [
      "C:\\Users\\saisagar\\AppData\\Local\\Temp\\ipykernel_20160\\2832633976.py:1: DeprecationWarning: Importing display from IPython.core.display is deprecated since IPython 7.14, please import from IPython display\n",
      "  from IPython.core.display import display, HTML\n"
     ]
    },
    {
     "data": {
      "text/html": [
       "\n",
       "<p style=\"font-family:verdana\">This is a sample table</p>\n",
       "<table>\n",
       "<tr>\n",
       "<th>Company</th>\n",
       "<th>Contact</th>\n",
       "<th>Country</th>\n",
       "</tr>\n",
       "<tr>\n",
       "<td>Alfreds Futterkiste</td>\n",
       "<td>Maria Anders</td>\n",
       "<td>Germany</td>\n",
       "</tr>\n",
       "<tr>\n",
       "<td>Centro comercial Moctezuma</td>\n",
       "<td>Francisco Chang</td>\n",
       "<td>Mexico</td>\n",
       "</tr>\n",
       "</table>\n"
      ],
      "text/plain": [
       "<IPython.core.display.HTML object>"
      ]
     },
     "metadata": {},
     "output_type": "display_data"
    }
   ],
   "source": [
    "from IPython.core.display import display, HTML\n",
    "\n",
    "display(HTML(\"\"\"\n",
    "<p style=\"font-family:verdana\">This is a sample table</p>\n",
    "<table>\n",
    "<tr>\n",
    "<th>Company</th>\n",
    "<th>Contact</th>\n",
    "<th>Country</th>\n",
    "</tr>\n",
    "<tr>\n",
    "<td>Alfreds Futterkiste</td>\n",
    "<td>Maria Anders</td>\n",
    "<td>Germany</td>\n",
    "</tr>\n",
    "<tr>\n",
    "<td>Centro comercial Moctezuma</td>\n",
    "<td>Francisco Chang</td>\n",
    "<td>Mexico</td>\n",
    "</tr>\n",
    "</table>\n",
    "\"\"\"))\n"
   ]
  },
  {
   "cell_type": "code",
   "execution_count": null,
   "id": "628121c7-ea21-4374-8294-7a9497e40f85",
   "metadata": {},
   "outputs": [],
   "source": []
  },
  {
   "cell_type": "code",
   "execution_count": null,
   "id": "99e0b632-8af4-4cf3-8431-fe492d9994dd",
   "metadata": {},
   "outputs": [],
   "source": []
  }
 ],
 "metadata": {
  "kernelspec": {
   "display_name": "Python 3 (ipykernel)",
   "language": "python",
   "name": "python3"
  },
  "language_info": {
   "codemirror_mode": {
    "name": "ipython",
    "version": 3
   },
   "file_extension": ".py",
   "mimetype": "text/x-python",
   "name": "python",
   "nbconvert_exporter": "python",
   "pygments_lexer": "ipython3",
   "version": "3.12.4"
  }
 },
 "nbformat": 4,
 "nbformat_minor": 5
}
