{
 "cells": [
  {
   "cell_type": "code",
   "execution_count": 2,
   "id": "19bfb575-3093-4279-9fda-a70a4e1886c5",
   "metadata": {},
   "outputs": [
    {
     "name": "stdout",
     "output_type": "stream",
     "text": [
      "Requirement already satisfied: emot in d:\\users\\saisagar\\anaconda3\\lib\\site-packages (3.1)\n",
      "Note: you may need to restart the kernel to use updated packages.\n"
     ]
    }
   ],
   "source": [
    "pip install emot"
   ]
  },
  {
   "cell_type": "code",
   "execution_count": 4,
   "id": "634e00bf-f0c7-493e-a258-b5df432249a0",
   "metadata": {},
   "outputs": [],
   "source": [
    "text1=\"what are you saying 😂. Iam the Boss 😎, and why are you so 😮‍💨\""
   ]
  },
  {
   "cell_type": "code",
   "execution_count": 6,
   "id": "a003be9b-3710-40e5-b5aa-940b1a374f91",
   "metadata": {},
   "outputs": [],
   "source": [
    "import re\n",
    "from emot.emo_unicode import UNICODE_EMOJI\n",
    "from emot.emo_unicode import EMOTICONS_EMO"
   ]
  },
  {
   "cell_type": "code",
   "execution_count": 12,
   "id": "47f998eb-a575-4bb2-8a7b-b0923d69c912",
   "metadata": {},
   "outputs": [
    {
     "data": {
      "text/plain": [
       "'what are you saying face_with_tears_of_joy. Iam the Boss smiling_face_with_sunglasses, and why are you so face_with_open_mouth\\u200ddashing_away'"
      ]
     },
     "execution_count": 12,
     "metadata": {},
     "output_type": "execute_result"
    }
   ],
   "source": [
    "def converting_emojis(text):\n",
    "    for emot in UNICODE_EMOJI:\n",
    "        text=text.replace(emot,\"_\".join(UNICODE_EMOJI[emot].replace(\",\",\"\")\\\n",
    "                                        .replace(\":\",\"\").split()))\n",
    "    return text\n",
    "converting_emojis(text1)"
   ]
  },
  {
   "cell_type": "code",
   "execution_count": 28,
   "id": "44e78be8-febe-49cf-890d-344172c8baff",
   "metadata": {},
   "outputs": [
    {
     "ename": "IndentationError",
     "evalue": "expected an indented block after function definition on line 1 (934468749.py, line 2)",
     "output_type": "error",
     "traceback": [
      "\u001b[1;36m  Cell \u001b[1;32mIn[28], line 2\u001b[1;36m\u001b[0m\n\u001b[1;33m    emoji_unicodes = re.compile(\"[\"\u001b[0m\n\u001b[1;37m    ^\u001b[0m\n\u001b[1;31mIndentationError\u001b[0m\u001b[1;31m:\u001b[0m expected an indented block after function definition on line 1\n"
     ]
    }
   ],
   "source": [
    "def emoji_removal(string): \n",
    "emoji_unicodes = re.compile(\"[\"\n",
    "                            u\"\\U0001F600-\\U0001F64F\"\n",
    "                            u\"\\U0001F300-\\U0001F5FF\"\n",
    "                            u\"\\U0001F680-\\U0001F6FF\"\n",
    "                            u\"\\U0001F1E0-\\U0001F1FF\"\n",
    "                            u\"\\U00002500-\\U00002BEF\" \n",
    "                            u\"\\U00002702-\\U000027B0\" \n",
    "                            u\"\\U000024C2-\\U0001F251\" \n",
    "                            u\"\\U0001f926-\\U00011937\" \n",
    "                            u\"\\U00010000-\\U0010ffff\"\n",
    "                            u\"\\u2640-\\u2642\" \n",
    "                            u\"\\u2600-\\u2855\" \n",
    "                            u\"\\u200d\" \n",
    "                            u\"\\u23cf\" \n",
    "                            u\"\\u23e9\" \n",
    "                            u\"\\u231a\" \n",
    "                            u\"\\ufe0f\" \n",
    "                            u\"\\u3030\" \n",
    "                            \"]+\", flags-re.UNICODE) \n",
    "    return emoji_unicodes.sub(r\"\", string) \n",
    "emoji_removal(text1)                              \n",
    "                            "
   ]
  },
  {
   "cell_type": "code",
   "execution_count": null,
   "id": "9dbad1d7-15c1-4b0a-8918-de73d70a1608",
   "metadata": {},
   "outputs": [],
   "source": []
  }
 ],
 "metadata": {
  "kernelspec": {
   "display_name": "Python 3 (ipykernel)",
   "language": "python",
   "name": "python3"
  },
  "language_info": {
   "codemirror_mode": {
    "name": "ipython",
    "version": 3
   },
   "file_extension": ".py",
   "mimetype": "text/x-python",
   "name": "python",
   "nbconvert_exporter": "python",
   "pygments_lexer": "ipython3",
   "version": "3.12.4"
  }
 },
 "nbformat": 4,
 "nbformat_minor": 5
}
